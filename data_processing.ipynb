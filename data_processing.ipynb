{
 "cells": [
  {
   "cell_type": "markdown",
   "id": "614777a0-16d0-4451-8c4f-de977f95fc8e",
   "metadata": {},
   "source": [
    "# 1: Data Processing\n",
    "\n",
    "## 1.1 Data Gathering\n",
    "\n",
    "### Introduction"
   ]
  },
  {
   "cell_type": "markdown",
   "id": "68fad8dc-d83d-4dcc-a52a-4d7c9c30743a",
   "metadata": {},
   "source": [
    "Public bike rental schemes have been launched in many cities around Europe, including successful networks in Irish towns and cities such as Dublin, Cork, and Galway. These provide local active transport links for commuting and leisure. This project explores the publically available data pertaining to the Dublin bike network, makes comparisons to the London network run by Santander, and makes recommendations on network adjustments that could be made to improve the network.\n",
    "\n",
    "There are several data sources to pull from and process:\n",
    "\n",
    "Data pertaining to the Dublin bike scheme - number of hires, availability, locations of stations, etc.\n",
    "- https://data.gov.ie/dataset/dublinbikes-api - Historical data for Dublin bike hire (CSV format)\n",
    "- https://developer.jcdecaux.com/#/opendata/vls?page=static&contract=dublin - (JSON format)\n",
    "\n",
    "Similar data pertaining to the London bike scheme in order provide a point of comparison.\n",
    "- https://data.london.gov.uk/dataset/number-bicycle-hires - The number of bicycle hires in London (XLS format)\n",
    "- https://data.london.gov.uk/dataset/cycle-hire-availability - The availability of bike hires in London\n",
    "\n",
    "Population data for the Dublin area. It is possible that the population in the vicinity of bike stations plays a significant role in their usage/availability, so this is gathered to enable features to be derived relating to this.\n",
    "- https://ie-cso.maps.arcgis.com/apps/webappviewer/index.html?id=0fe164e96d254776866425e2fd3e73af - 2022 census population data for Dublin (GIS data)\n",
    "- https://sdi.eea.europa.eu/catalogue/srv/eng/catalog.search#/metadata/3c362237-daa4-45e2-8c16-aaadfb1a003b - GIS grid data for Ireland (GIS data / parquet)\n",
    "\n",
    "Weather data for Dublin - it is possible that the weather (temperature/rainfall) has a role in bike usage, so this is gathered in order to explore this link.\n",
    "- https://www.met.ie/climate/available-data/historical-data - Historical weather data for Dublin (CSV format)\n",
    "\n",
    "These data sources are publically available with very few restrictions - they generally ask that the sources are given attribution and it is noted if changes are made. \n",
    "Dublinbikes and met eireann data is available under the creative commons license version 4.0 - https://creativecommons.org/licenses/by/4.0/\n",
    "The UK open government license requests that a link to the license is included, which han be found here - https://www.nationalarchives.gov.uk/doc/open-government-licence/version/2/\n",
    "European population grid data is publically available for non-commercial purposes with attribution - https://ec.europa.eu/eurostat/web/gisco/geodata/reference-data/population-distribution-demography"
   ]
  },
  {
   "cell_type": "code",
   "execution_count": null,
   "id": "37dcd3a5-3721-4011-a38e-5ce1b8bc00a0",
   "metadata": {},
   "outputs": [],
   "source": [
    "## unquote to install dependencies from file if not already installed\n",
    "# pip install -r requirements.txt"
   ]
  },
  {
   "cell_type": "code",
   "execution_count": 35,
   "id": "ec23ffb3-e5be-427b-9e87-85813bf5eff8",
   "metadata": {},
   "outputs": [],
   "source": [
    "import os\n",
    "import requests\n",
    "from pathlib import Path\n",
    "import pandas as pd\n",
    "import warnings\n",
    "from bs4 import BeautifulSoup\n",
    "from tqdm import tqdm\n",
    "import json\n",
    "\n",
    "warnings.filterwarnings('ignore')\n",
    "\n",
    "# Flag to control redownloading - avoids unnecessary web traffic\n",
    "REDOWNLOAD = False\n",
    "\n",
    "data_folder = Path('data/')\n",
    "dublin_bike_folder = Path('data/dublinbikes')\n",
    "\n",
    "if not data_folder.exists():\n",
    "    data_folder.mkdir()\n",
    "    \n",
    "if not dublin_bike_folder.exists():\n",
    "    dublin_bike_folder.mkdir()\n",
    "    (dublin_bike_folder / 'monthly').mkdir()\n",
    "    (dublin_bike_folder / 'quarterly').mkdir()"
   ]
  },
  {
   "cell_type": "markdown",
   "id": "67f7ecd0-c024-433e-8b9b-3a1bd9425bed",
   "metadata": {},
   "source": [
    "### Dublin Bikes Data\n",
    "\n",
    "Firstly, to get dublinbikes historical data, the download links are scraped from the dublinbikes data page data.gov.ie. BeautifulSoup is used for this, which allows us to parse the html response from a get request to the data landing page, and filter down to the 'a' tags which have a dublinbike .csv href. These come in quarterly and monthly cadences, so the list of links can be split based on the url format, and each file can be downloaded using pandas, with the os path basename allowing us to easily parse out the filename from the url."
   ]
  },
  {
   "cell_type": "code",
   "execution_count": 8,
   "id": "47c44374-c61a-48ab-867d-f253e91c0826",
   "metadata": {},
   "outputs": [],
   "source": [
    "# dublinbikes csv data\n",
    "main_page_url = 'https://data.gov.ie/dataset/dublinbikes-api'\n",
    "main_page_html = requests.get(main_page_url).content"
   ]
  },
  {
   "cell_type": "code",
   "execution_count": 17,
   "id": "8172a0ce-59ea-4329-a981-63ce862f5eaa",
   "metadata": {},
   "outputs": [
    {
     "data": {
      "text/plain": [
       "['https://data.smartdublin.ie/dataset/33ec9fe2-4957-4e9a-ab55-c5e917c7a9ab/resource/9496fac5-e4d7-4ae9-a49a-217c7c4e83d9/download/dublinbikes_20180701_20181001.csv',\n",
       " 'https://data.smartdublin.ie/dataset/33ec9fe2-4957-4e9a-ab55-c5e917c7a9ab/resource/67ea095f-67ad-47f5-b8f7-044743043848/download/dublinbikes_20181001_20190101.csv',\n",
       " 'https://data.smartdublin.ie/dataset/33ec9fe2-4957-4e9a-ab55-c5e917c7a9ab/resource/538165d7-535e-4e1d-909a-1c1bfae901c5/download/dublinbikes_20190101_20190401.csv',\n",
       " 'https://data.smartdublin.ie/dataset/33ec9fe2-4957-4e9a-ab55-c5e917c7a9ab/resource/76fdda3d-d8be-441b-92dd-0ee36d9c5316/download/dublinbikes_20190401_20190701.csv',\n",
       " 'https://data.smartdublin.ie/dataset/33ec9fe2-4957-4e9a-ab55-c5e917c7a9ab/resource/305d39ac-b6a0-4216-a535-0ae2ddf59819/download/dublinbikes_20190701_20191001.csv',\n",
       " 'https://data.smartdublin.ie/dataset/33ec9fe2-4957-4e9a-ab55-c5e917c7a9ab/resource/5d23332e-4f49-4c41-b6a0-bffb77b33d64/download/dublinbikes_20191001_20200101.csv',\n",
       " 'https://data.smartdublin.ie/dataset/33ec9fe2-4957-4e9a-ab55-c5e917c7a9ab/resource/aab12e7d-547f-463a-86b1-e22002884587/download/dublinbikes_20200101_20200401.csv',\n",
       " 'https://data.smartdublin.ie/dataset/33ec9fe2-4957-4e9a-ab55-c5e917c7a9ab/resource/8ddaeac6-4caf-4289-9835-cf588d0b69e5/download/dublinbikes_20200401_20200701.csv',\n",
       " 'https://data.smartdublin.ie/dataset/33ec9fe2-4957-4e9a-ab55-c5e917c7a9ab/resource/99a35442-6878-4c2d-8dff-ec43e91d21d7/download/dublinbikes_20200701_20201001.csv',\n",
       " 'https://data.smartdublin.ie/dataset/33ec9fe2-4957-4e9a-ab55-c5e917c7a9ab/resource/5328239f-bcc6-483d-9c17-87166efc3a1a/download/dublinbikes_20201001_20210101.csv',\n",
       " 'https://data.smartdublin.ie/dataset/33ec9fe2-4957-4e9a-ab55-c5e917c7a9ab/resource/7987ddc8-674a-4368-b344-560804771b98/download/dublinbikes_20210101_20210401.csv',\n",
       " 'https://data.smartdublin.ie/dataset/33ec9fe2-4957-4e9a-ab55-c5e917c7a9ab/resource/1c18f219-3885-403e-aa55-4d4c78ee0204/download/dublinbikes_20210401_20210701.csv',\n",
       " 'https://data.smartdublin.ie/dataset/33ec9fe2-4957-4e9a-ab55-c5e917c7a9ab/resource/91ccfcb7-0c5b-41e4-be1b-e5d35c609638/download/dublinbikes_20210701_20211001.csv',\n",
       " 'https://data.smartdublin.ie/dataset/33ec9fe2-4957-4e9a-ab55-c5e917c7a9ab/resource/5bc73751-4280-4423-b64d-18f4cc17986d/download/dublinbikes_20211001_20220101.csv',\n",
       " 'https://data.smartdublin.ie/dataset/33ec9fe2-4957-4e9a-ab55-c5e917c7a9ab/resource/2364b479-467a-43ef-8c5c-85d44386d398/download/dublinbike-historical-data-2021-10.csv',\n",
       " 'https://data.smartdublin.ie/dataset/33ec9fe2-4957-4e9a-ab55-c5e917c7a9ab/resource/9d177a3e-53bd-4129-bf50-c2cf6377fc61/download/dublinbike-historical-data-2021-11.csv',\n",
       " 'https://data.smartdublin.ie/dataset/33ec9fe2-4957-4e9a-ab55-c5e917c7a9ab/resource/4ae67b39-cdac-4b45-8b79-679938de7ba0/download/dublinbike-historical-data-2021-12.csv',\n",
       " 'https://data.smartdublin.ie/dataset/33ec9fe2-4957-4e9a-ab55-c5e917c7a9ab/resource/d4a7a8ef-24d4-4d47-967f-945e4a6a3a7b/download/dublinbike-historical-data-2022-01.csv',\n",
       " 'https://data.smartdublin.ie/dataset/33ec9fe2-4957-4e9a-ab55-c5e917c7a9ab/resource/39d9346f-69fc-40bb-baba-97f3ef3dcfdf/download/dublinbike-historical-data-2022-02.csv',\n",
       " 'https://data.smartdublin.ie/dataset/33ec9fe2-4957-4e9a-ab55-c5e917c7a9ab/resource/7f4dfdf6-a651-4fc3-9f13-d91d49ff3ddb/download/dublinbike-historical-data-2022-03.csv',\n",
       " 'https://data.smartdublin.ie/dataset/33ec9fe2-4957-4e9a-ab55-c5e917c7a9ab/resource/98869541-aa65-48b7-b4b7-4a72775a9c2f/download/dublinbike-historical-data-2022-04.csv',\n",
       " 'https://data.smartdublin.ie/dataset/33ec9fe2-4957-4e9a-ab55-c5e917c7a9ab/resource/e859cda6-93cb-4175-ab49-7d7cffb1f471/download/dublinbike-historical-data-2022-05.csv',\n",
       " 'https://data.smartdublin.ie/dataset/33ec9fe2-4957-4e9a-ab55-c5e917c7a9ab/resource/b0100d31-2b1c-4f8d-86c8-a2bd4c6c026c/download/dublinbike-historical-data-2022-06.csv',\n",
       " 'https://data.smartdublin.ie/dataset/33ec9fe2-4957-4e9a-ab55-c5e917c7a9ab/resource/9b024f2c-3011-4ece-8b75-10cec711b333/download/dublinbike-historical-data-2022-07.csv',\n",
       " 'https://data.smartdublin.ie/dataset/33ec9fe2-4957-4e9a-ab55-c5e917c7a9ab/resource/924dcd0a-66eb-4ec7-bfe4-f3df9d8dfef4/download/dublinbike-historical-data-2022-08.csv',\n",
       " 'https://data.smartdublin.ie/dataset/33ec9fe2-4957-4e9a-ab55-c5e917c7a9ab/resource/2c8d84e5-4034-4356-a134-0e783f0febca/download/dublinbike-historical-data-2022-09.csv',\n",
       " 'https://data.smartdublin.ie/dataset/33ec9fe2-4957-4e9a-ab55-c5e917c7a9ab/resource/6350733b-b823-4174-95fd-c76c711cc384/download/dublinbike-historical-data-2022-10.csv',\n",
       " 'https://data.smartdublin.ie/dataset/33ec9fe2-4957-4e9a-ab55-c5e917c7a9ab/resource/4ef07f87-23d0-433c-b80c-0c6ae2ed4c1b/download/dublinbike-historical-data-2022-11.csv',\n",
       " 'https://data.smartdublin.ie/dataset/33ec9fe2-4957-4e9a-ab55-c5e917c7a9ab/resource/79ab48c8-6135-4fd5-a7af-e74495a34777/download/dublinbike-historical-data-2022-12.csv',\n",
       " 'https://data.smartdublin.ie/dataset/33ec9fe2-4957-4e9a-ab55-c5e917c7a9ab/resource/ac920fc9-d73d-4565-81e0-31c179bc741c/download/dublinbike-historical-data-2023-01.csv',\n",
       " 'https://data.smartdublin.ie/dataset/33ec9fe2-4957-4e9a-ab55-c5e917c7a9ab/resource/4ee172c9-dfc1-4e4b-afc7-0dc83c17a240/download/dublinbike-historical-data-2023-02.csv',\n",
       " 'https://data.smartdublin.ie/dataset/33ec9fe2-4957-4e9a-ab55-c5e917c7a9ab/resource/6b505ff7-35b7-4a6f-abce-b62b8889aae8/download/dublinbike-historical-data-2023-03.csv',\n",
       " 'https://data.smartdublin.ie/dataset/33ec9fe2-4957-4e9a-ab55-c5e917c7a9ab/resource/61ad0229-43a8-44c6-8bc3-fc8580b0794a/download/dublinbike-historical-data-2023-04.csv',\n",
       " 'https://data.smartdublin.ie/dataset/33ec9fe2-4957-4e9a-ab55-c5e917c7a9ab/resource/2ab9de3a-f965-4917-bf53-4dbe9dbfab4d/download/dublinbike-historical-data-2023-05.csv',\n",
       " 'https://data.smartdublin.ie/dataset/33ec9fe2-4957-4e9a-ab55-c5e917c7a9ab/resource/8b99c18f-bb0e-4f27-bdbb-c649f83dd487/download/dublinbike-historical-data-2023-06.csv',\n",
       " 'https://data.smartdublin.ie/dataset/33ec9fe2-4957-4e9a-ab55-c5e917c7a9ab/resource/70925ddc-18b6-4325-9103-1a2f3f320f5a/download/dublinbike-historical-data-2023-07.csv',\n",
       " 'https://data.smartdublin.ie/dataset/33ec9fe2-4957-4e9a-ab55-c5e917c7a9ab/resource/95e5514b-c516-4173-bdc2-27181cd8d75e/download/dublinbike-historical-data-2023-08.csv',\n",
       " 'https://data.smartdublin.ie/dataset/33ec9fe2-4957-4e9a-ab55-c5e917c7a9ab/resource/455f744b-8bea-403a-a7a6-a32904d9e255/download/dublinbike-historical-data-2023-09.csv',\n",
       " 'https://data.smartdublin.ie/dataset/33ec9fe2-4957-4e9a-ab55-c5e917c7a9ab/resource/0027dd4c-c749-4ea2-8413-e323d959f44c/download/dublinbike-historical-data-2023-10.csv',\n",
       " 'https://data.smartdublin.ie/dataset/33ec9fe2-4957-4e9a-ab55-c5e917c7a9ab/resource/d4bd9069-630b-4ae5-b58b-cf8f74e8de9e/download/dublinbike-historical-data-2023-11.csv',\n",
       " 'https://data.smartdublin.ie/dataset/33ec9fe2-4957-4e9a-ab55-c5e917c7a9ab/resource/969e942a-ab88-46e1-ae85-bd3a62112bc1/download/dublinbike-historical-data-2023-12.csv']"
      ]
     },
     "execution_count": 17,
     "metadata": {},
     "output_type": "execute_result"
    }
   ],
   "source": [
    "soup = BeautifulSoup(main_page_html)\n",
    "download_links = [a['href'] for a in soup.find_all('a', href=True) if a['href'].endswith('.csv') and 'dublinbike' in a['href']]\n",
    "download_links "
   ]
  },
  {
   "cell_type": "markdown",
   "id": "614c156c-c044-42ee-9984-9f201396c221",
   "metadata": {},
   "source": [
    "These files can be quite large, so we set a flag to avoid redownloading them if needed.\n",
    "\n",
    "We also use tqdm to display simple progress bars, as the data takes a reasonably long time to download. "
   ]
  },
  {
   "cell_type": "code",
   "execution_count": 27,
   "id": "380b5f9b-2628-4993-9173-e737f732ce44",
   "metadata": {},
   "outputs": [
    {
     "name": "stderr",
     "output_type": "stream",
     "text": [
      "100%|████████████████████████████████████████████████████████████████████████████████████████████████████████████████████| 14/14 [06:36<00:00, 28.33s/it]\n",
      "100%|████████████████████████████████████████████████████████████████████████████████████████████████████████████████████| 27/27 [01:01<00:00,  2.28s/it]\n"
     ]
    }
   ],
   "source": [
    "# Warning: this downloads several Gbs of bike data\n",
    "quarterly_links = [x for x in download_links if 'dublinbikes' in x]\n",
    "monthly_links = [x for x in download_links if 'dublinbikes' not in x]\n",
    "\n",
    "if REDOWNLOAD:\n",
    "    for link in tqdm(quarterly_links):\n",
    "        df = pd.read_csv(link)\n",
    "        df.to_csv((dublin_bike_folder / 'quarterly' / os.path.basename(link)), index=False)\n",
    "                  \n",
    "    for link in tqdm(monthly_links):\n",
    "        df = pd.read_csv(link)\n",
    "        df.to_csv((dublin_bike_folder / 'monthly' / os.path.basename(link)), index=False)"
   ]
  },
  {
   "cell_type": "markdown",
   "id": "4e696aa3-f411-4520-b268-56aa41e13ad9",
   "metadata": {},
   "source": [
    "We also want to get the location data for each station, including the address and latitude and longitude. This is available as a json file from jcdecaux, who manage the dublinbikes service and provide a rest api."
   ]
  },
  {
   "cell_type": "code",
   "execution_count": 39,
   "id": "9616a1f7-bf60-4a8f-95aa-f55ac4274f5d",
   "metadata": {},
   "outputs": [
    {
     "data": {
      "text/plain": [
       "[{'number': 42,\n",
       "  'name': 'SMITHFIELD NORTH',\n",
       "  'address': 'Smithfield North',\n",
       "  'latitude': 53.349562,\n",
       "  'longitude': -6.278198},\n",
       " {'number': 30,\n",
       "  'name': 'PARNELL SQUARE NORTH',\n",
       "  'address': 'Parnell Square North',\n",
       "  'latitude': 53.3537415547453,\n",
       "  'longitude': -6.26530144781526},\n",
       " {'number': 54,\n",
       "  'name': 'CLONMEL STREET',\n",
       "  'address': 'Clonmel Street',\n",
       "  'latitude': 53.336021,\n",
       "  'longitude': -6.26298}]"
      ]
     },
     "execution_count": 39,
     "metadata": {},
     "output_type": "execute_result"
    }
   ],
   "source": [
    "location_data_url = \"https://developer.jcdecaux.com/rest/vls/stations/dublin.json\"\n",
    "location_data_json = requests.get(location_data_url).json()\n",
    "with open(dublin_bike_folder / 'dublin_locations.json', 'w') as f:\n",
    "    json.dump(location_data_json, f)\n",
    "    \n",
    "location_data_json[:3]"
   ]
  },
  {
   "cell_type": "code",
   "execution_count": 40,
   "id": "2dd1def0-21f4-4d91-8321-23e06eb5f290",
   "metadata": {},
   "outputs": [
    {
     "data": {
      "text/html": [
       "<div>\n",
       "<style scoped>\n",
       "    .dataframe tbody tr th:only-of-type {\n",
       "        vertical-align: middle;\n",
       "    }\n",
       "\n",
       "    .dataframe tbody tr th {\n",
       "        vertical-align: top;\n",
       "    }\n",
       "\n",
       "    .dataframe thead th {\n",
       "        text-align: right;\n",
       "    }\n",
       "</style>\n",
       "<table border=\"1\" class=\"dataframe\">\n",
       "  <thead>\n",
       "    <tr style=\"text-align: right;\">\n",
       "      <th></th>\n",
       "      <th>number</th>\n",
       "      <th>name</th>\n",
       "      <th>address</th>\n",
       "      <th>latitude</th>\n",
       "      <th>longitude</th>\n",
       "    </tr>\n",
       "  </thead>\n",
       "  <tbody>\n",
       "    <tr>\n",
       "      <th>0</th>\n",
       "      <td>42</td>\n",
       "      <td>SMITHFIELD NORTH</td>\n",
       "      <td>Smithfield North</td>\n",
       "      <td>53.349562</td>\n",
       "      <td>-6.278198</td>\n",
       "    </tr>\n",
       "    <tr>\n",
       "      <th>1</th>\n",
       "      <td>30</td>\n",
       "      <td>PARNELL SQUARE NORTH</td>\n",
       "      <td>Parnell Square North</td>\n",
       "      <td>53.353742</td>\n",
       "      <td>-6.265301</td>\n",
       "    </tr>\n",
       "    <tr>\n",
       "      <th>2</th>\n",
       "      <td>54</td>\n",
       "      <td>CLONMEL STREET</td>\n",
       "      <td>Clonmel Street</td>\n",
       "      <td>53.336021</td>\n",
       "      <td>-6.262980</td>\n",
       "    </tr>\n",
       "    <tr>\n",
       "      <th>3</th>\n",
       "      <td>108</td>\n",
       "      <td>AVONDALE ROAD</td>\n",
       "      <td>Avondale Road</td>\n",
       "      <td>53.359405</td>\n",
       "      <td>-6.276142</td>\n",
       "    </tr>\n",
       "    <tr>\n",
       "      <th>4</th>\n",
       "      <td>20</td>\n",
       "      <td>JAMES STREET EAST</td>\n",
       "      <td>James Street East</td>\n",
       "      <td>53.336597</td>\n",
       "      <td>-6.248109</td>\n",
       "    </tr>\n",
       "  </tbody>\n",
       "</table>\n",
       "</div>"
      ],
      "text/plain": [
       "   number                  name               address   latitude  longitude\n",
       "0      42      SMITHFIELD NORTH      Smithfield North  53.349562  -6.278198\n",
       "1      30  PARNELL SQUARE NORTH  Parnell Square North  53.353742  -6.265301\n",
       "2      54        CLONMEL STREET        Clonmel Street  53.336021  -6.262980\n",
       "3     108         AVONDALE ROAD         Avondale Road  53.359405  -6.276142\n",
       "4      20     JAMES STREET EAST     James Street East  53.336597  -6.248109"
      ]
     },
     "execution_count": 40,
     "metadata": {},
     "output_type": "execute_result"
    }
   ],
   "source": [
    "dublin_bike_stations_df = pd.DataFrame(location_data_json)\n",
    "dublin_bike_stations_df.head()"
   ]
  },
  {
   "cell_type": "markdown",
   "id": "d2a04a0c-7ed0-48ff-a48c-327fe2399a28",
   "metadata": {},
   "source": [
    "### London Bikes Data\n",
    "\n",
    "To compare the Dublin bike hire trends to those of London, the number of bike hires for the snatander-run service can be retrieved from data.london.giv.uk. This comes as an xlsx file, so the raw response from the get request can be written to a file opened in write bytes (wb) mode.\n",
    "\n",
    "This xlsx file is in an untidy (Wickham 2011) format, as multiple tables are stored on the same sheet, and there is a data header above the data itself, so some additional processing is required to isolate the necessary signals. Pandas can read excel files, but the header needs to be stripped with the skiprows argument, and columns need to be specified so that the different tables can be isolated from their shared sheet."
   ]
  },
  {
   "cell_type": "code",
   "execution_count": 42,
   "id": "f79d6a93-9db7-4a4d-970a-3a77bac30043",
   "metadata": {},
   "outputs": [],
   "source": [
    "london_bike_hires_url = 'https://data.london.gov.uk/download/number-bicycle-hires/ac29363e-e0cb-47cc-a97a-e216d900a6b0/tfl-daily-cycle-hires.xlsx'\n",
    "\n",
    "london_bike_raw_data = requests.get(london_bike_hires_url ).content\n",
    "with open(data_folder / 'london_bike_hires.xlsx', 'wb') as f:\n",
    "    f.write(london_bike_raw_data)"
   ]
  },
  {
   "cell_type": "markdown",
   "id": "1a6b866d-4681-4970-924c-c804bc74e336",
   "metadata": {},
   "source": [
    "### Dublin Population Data\n",
    "\n",
    "The population in the vicinity of a bike station is envisioned to influence its availability & usage.\n",
    "We can get population data within each square kilometer from [here]. This data is on the Irish 1km grid, which is available as a parquet file [here]. The data is \n",
    "The location data is projected differently between the different data sources - 1km grid data is encoded using the \"EPSG:3035\" standard, however the more familiar latitude and longitude system is based on the \"EPSG:4326\" standard.\n",
    "\n",
    "We can convert between the two projections using the pyproj package. This gives the additional advantage that the EPSG:3035 encoding's Eastings and Northings are in meters, so we can easily find distances between points on the earth's surface using metrics such as the euclidean distance or manhattan distance without dealing with spherical coordinates under the latlon system.\n",
    "\n",
    "It is important that we can easily find distances using a variety of metrics, as we are dealing with real-world distances within a city, so it is possible that the grid-based Manhattan measure might be more appropriate that the \"as the crow flies\" euclidean measure. We will want to be able to easily calculate distance features for both for comparison."
   ]
  },
  {
   "cell_type": "code",
   "execution_count": null,
   "id": "9582c572-af11-41cb-958c-73f73747dfda",
   "metadata": {},
   "outputs": [],
   "source": []
  },
  {
   "cell_type": "code",
   "execution_count": null,
   "id": "973568e7-0e0b-41eb-894c-84fbe7433b01",
   "metadata": {},
   "outputs": [],
   "source": []
  },
  {
   "cell_type": "markdown",
   "id": "8ad08a05-9dae-42d9-ac30-caf632cb000d",
   "metadata": {},
   "source": [
    "## 1.2 Initial Data Cleaning"
   ]
  },
  {
   "cell_type": "code",
   "execution_count": null,
   "id": "e3ab5a58-d597-44bc-b571-85734945b720",
   "metadata": {},
   "outputs": [],
   "source": []
  }
 ],
 "metadata": {
  "kernelspec": {
   "display_name": "Python 3 (ipykernel)",
   "language": "python",
   "name": "python3"
  },
  "language_info": {
   "codemirror_mode": {
    "name": "ipython",
    "version": 3
   },
   "file_extension": ".py",
   "mimetype": "text/x-python",
   "name": "python",
   "nbconvert_exporter": "python",
   "pygments_lexer": "ipython3",
   "version": "3.10.13"
  }
 },
 "nbformat": 4,
 "nbformat_minor": 5
}
