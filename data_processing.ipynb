{
 "cells": [
  {
   "cell_type": "markdown",
   "id": "614777a0-16d0-4451-8c4f-de977f95fc8e",
   "metadata": {},
   "source": [
    "# 1: Data Processing\n",
    "\n",
    "## 1.1 Data Gathering\n",
    "\n",
    "### Introduction"
   ]
  },
  {
   "cell_type": "markdown",
   "id": "68fad8dc-d83d-4dcc-a52a-4d7c9c30743a",
   "metadata": {},
   "source": [
    "Public bike rental schemes have been launched in many cities around Europe, including successful networks in Irish towns and cities such as Dublin, Cork, and Galway. These provide local active transport links for commuting and leisure. This project explores the publically available data pertaining to the Dublin bike network, makes comparisons to the London network run by Santander, and makes recommendations on network adjustments that could be made to improve the network.\n",
    "\n",
    "There are several data sources to pull from and process:\n",
    "\n",
    "Data pertaining to the Dublin bike scheme - number of hires, availability, locations of stations, etc.\n",
    "- https://data.gov.ie/dataset/dublinbikes-api - Historical data for Dublin bike hire (CSV format)\n",
    "- https://developer.jcdecaux.com/#/opendata/vls?page=static&contract=dublin - (JSON format)\n",
    "\n",
    "Similar data pertaining to the London bike scheme in order provide a point of comparison.\n",
    "- https://data.london.gov.uk/dataset/number-bicycle-hires - The number of bicycle hires in London (XLS format)\n",
    "- https://data.london.gov.uk/dataset/cycle-hire-availability - The availability of bike hires in London\n",
    "\n",
    "Population data for the Dublin area. It is possible that the population in the vicinity of bike stations plays a significant role in their usage/availability, so this is gathered to enable features to be derived relating to this.\n",
    "- https://ie-cso.maps.arcgis.com/apps/webappviewer/index.html?id=0fe164e96d254776866425e2fd3e73af - Population data for Dublin (GIS data)\n",
    "- https://sdi.eea.europa.eu/catalogue/srv/eng/catalog.search#/metadata/3c362237-daa4-45e2-8c16-aaadfb1a003b - GIS grid data for Ireland (GIS data / parquet)\n",
    "\n",
    "Weather data for Dublin - it is possible that the weather (temperature/rainfall) has a role in bike usage, so this is gathered in order to explore this link.\n",
    "- https://www.met.ie/climate/available-data/historical-data - Historical weather data for Dublin (CSV format)"
   ]
  },
  {
   "cell_type": "code",
   "execution_count": null,
   "id": "37dcd3a5-3721-4011-a38e-5ce1b8bc00a0",
   "metadata": {},
   "outputs": [],
   "source": [
    "## unquote to install dependencies from file if not already installed\n",
    "# pip install -r requirements.txt"
   ]
  },
  {
   "cell_type": "code",
   "execution_count": 26,
   "id": "ec23ffb3-e5be-427b-9e87-85813bf5eff8",
   "metadata": {},
   "outputs": [],
   "source": [
    "import os\n",
    "import requests\n",
    "from pathlib import Path\n",
    "import pandas as pd\n",
    "import warnings\n",
    "from bs4 import BeautifulSoup\n",
    "from tqdm import tqdm\n",
    "\n",
    "warnings.filterwarnings('ignore')\n",
    "\n",
    "# Flag to control redownloading - avoids unnecessary web traffic\n",
    "REDOWNLOAD = False\n",
    "\n",
    "data_folder = Path('data/')\n",
    "dublin_bike_folder = Path('data/dublinbikes')\n",
    "\n",
    "if not data_folder.exists():\n",
    "    data_folder.mkdir()\n",
    "    \n",
    "if not dublin_bike_folder.exists():\n",
    "    dublin_bike_folder.mkdir()\n",
    "    (dublin_bike_folder / 'monthly').mkdir()\n",
    "    (dublin_bike_folder / 'quarterly').mkdir()"
   ]
  },
  {
   "cell_type": "code",
   "execution_count": 8,
   "id": "47c44374-c61a-48ab-867d-f253e91c0826",
   "metadata": {},
   "outputs": [],
   "source": [
    "# dublinbikes csv data\n",
    "main_page_url = 'https://data.gov.ie/dataset/dublinbikes-api'\n",
    "main_page_html = requests.get(main_page_url).content"
   ]
  },
  {
   "cell_type": "code",
   "execution_count": 17,
   "id": "8172a0ce-59ea-4329-a981-63ce862f5eaa",
   "metadata": {},
   "outputs": [
    {
     "data": {
      "text/plain": [
       "['https://data.smartdublin.ie/dataset/33ec9fe2-4957-4e9a-ab55-c5e917c7a9ab/resource/9496fac5-e4d7-4ae9-a49a-217c7c4e83d9/download/dublinbikes_20180701_20181001.csv',\n",
       " 'https://data.smartdublin.ie/dataset/33ec9fe2-4957-4e9a-ab55-c5e917c7a9ab/resource/67ea095f-67ad-47f5-b8f7-044743043848/download/dublinbikes_20181001_20190101.csv',\n",
       " 'https://data.smartdublin.ie/dataset/33ec9fe2-4957-4e9a-ab55-c5e917c7a9ab/resource/538165d7-535e-4e1d-909a-1c1bfae901c5/download/dublinbikes_20190101_20190401.csv',\n",
       " 'https://data.smartdublin.ie/dataset/33ec9fe2-4957-4e9a-ab55-c5e917c7a9ab/resource/76fdda3d-d8be-441b-92dd-0ee36d9c5316/download/dublinbikes_20190401_20190701.csv',\n",
       " 'https://data.smartdublin.ie/dataset/33ec9fe2-4957-4e9a-ab55-c5e917c7a9ab/resource/305d39ac-b6a0-4216-a535-0ae2ddf59819/download/dublinbikes_20190701_20191001.csv',\n",
       " 'https://data.smartdublin.ie/dataset/33ec9fe2-4957-4e9a-ab55-c5e917c7a9ab/resource/5d23332e-4f49-4c41-b6a0-bffb77b33d64/download/dublinbikes_20191001_20200101.csv',\n",
       " 'https://data.smartdublin.ie/dataset/33ec9fe2-4957-4e9a-ab55-c5e917c7a9ab/resource/aab12e7d-547f-463a-86b1-e22002884587/download/dublinbikes_20200101_20200401.csv',\n",
       " 'https://data.smartdublin.ie/dataset/33ec9fe2-4957-4e9a-ab55-c5e917c7a9ab/resource/8ddaeac6-4caf-4289-9835-cf588d0b69e5/download/dublinbikes_20200401_20200701.csv',\n",
       " 'https://data.smartdublin.ie/dataset/33ec9fe2-4957-4e9a-ab55-c5e917c7a9ab/resource/99a35442-6878-4c2d-8dff-ec43e91d21d7/download/dublinbikes_20200701_20201001.csv',\n",
       " 'https://data.smartdublin.ie/dataset/33ec9fe2-4957-4e9a-ab55-c5e917c7a9ab/resource/5328239f-bcc6-483d-9c17-87166efc3a1a/download/dublinbikes_20201001_20210101.csv',\n",
       " 'https://data.smartdublin.ie/dataset/33ec9fe2-4957-4e9a-ab55-c5e917c7a9ab/resource/7987ddc8-674a-4368-b344-560804771b98/download/dublinbikes_20210101_20210401.csv',\n",
       " 'https://data.smartdublin.ie/dataset/33ec9fe2-4957-4e9a-ab55-c5e917c7a9ab/resource/1c18f219-3885-403e-aa55-4d4c78ee0204/download/dublinbikes_20210401_20210701.csv',\n",
       " 'https://data.smartdublin.ie/dataset/33ec9fe2-4957-4e9a-ab55-c5e917c7a9ab/resource/91ccfcb7-0c5b-41e4-be1b-e5d35c609638/download/dublinbikes_20210701_20211001.csv',\n",
       " 'https://data.smartdublin.ie/dataset/33ec9fe2-4957-4e9a-ab55-c5e917c7a9ab/resource/5bc73751-4280-4423-b64d-18f4cc17986d/download/dublinbikes_20211001_20220101.csv',\n",
       " 'https://data.smartdublin.ie/dataset/33ec9fe2-4957-4e9a-ab55-c5e917c7a9ab/resource/2364b479-467a-43ef-8c5c-85d44386d398/download/dublinbike-historical-data-2021-10.csv',\n",
       " 'https://data.smartdublin.ie/dataset/33ec9fe2-4957-4e9a-ab55-c5e917c7a9ab/resource/9d177a3e-53bd-4129-bf50-c2cf6377fc61/download/dublinbike-historical-data-2021-11.csv',\n",
       " 'https://data.smartdublin.ie/dataset/33ec9fe2-4957-4e9a-ab55-c5e917c7a9ab/resource/4ae67b39-cdac-4b45-8b79-679938de7ba0/download/dublinbike-historical-data-2021-12.csv',\n",
       " 'https://data.smartdublin.ie/dataset/33ec9fe2-4957-4e9a-ab55-c5e917c7a9ab/resource/d4a7a8ef-24d4-4d47-967f-945e4a6a3a7b/download/dublinbike-historical-data-2022-01.csv',\n",
       " 'https://data.smartdublin.ie/dataset/33ec9fe2-4957-4e9a-ab55-c5e917c7a9ab/resource/39d9346f-69fc-40bb-baba-97f3ef3dcfdf/download/dublinbike-historical-data-2022-02.csv',\n",
       " 'https://data.smartdublin.ie/dataset/33ec9fe2-4957-4e9a-ab55-c5e917c7a9ab/resource/7f4dfdf6-a651-4fc3-9f13-d91d49ff3ddb/download/dublinbike-historical-data-2022-03.csv',\n",
       " 'https://data.smartdublin.ie/dataset/33ec9fe2-4957-4e9a-ab55-c5e917c7a9ab/resource/98869541-aa65-48b7-b4b7-4a72775a9c2f/download/dublinbike-historical-data-2022-04.csv',\n",
       " 'https://data.smartdublin.ie/dataset/33ec9fe2-4957-4e9a-ab55-c5e917c7a9ab/resource/e859cda6-93cb-4175-ab49-7d7cffb1f471/download/dublinbike-historical-data-2022-05.csv',\n",
       " 'https://data.smartdublin.ie/dataset/33ec9fe2-4957-4e9a-ab55-c5e917c7a9ab/resource/b0100d31-2b1c-4f8d-86c8-a2bd4c6c026c/download/dublinbike-historical-data-2022-06.csv',\n",
       " 'https://data.smartdublin.ie/dataset/33ec9fe2-4957-4e9a-ab55-c5e917c7a9ab/resource/9b024f2c-3011-4ece-8b75-10cec711b333/download/dublinbike-historical-data-2022-07.csv',\n",
       " 'https://data.smartdublin.ie/dataset/33ec9fe2-4957-4e9a-ab55-c5e917c7a9ab/resource/924dcd0a-66eb-4ec7-bfe4-f3df9d8dfef4/download/dublinbike-historical-data-2022-08.csv',\n",
       " 'https://data.smartdublin.ie/dataset/33ec9fe2-4957-4e9a-ab55-c5e917c7a9ab/resource/2c8d84e5-4034-4356-a134-0e783f0febca/download/dublinbike-historical-data-2022-09.csv',\n",
       " 'https://data.smartdublin.ie/dataset/33ec9fe2-4957-4e9a-ab55-c5e917c7a9ab/resource/6350733b-b823-4174-95fd-c76c711cc384/download/dublinbike-historical-data-2022-10.csv',\n",
       " 'https://data.smartdublin.ie/dataset/33ec9fe2-4957-4e9a-ab55-c5e917c7a9ab/resource/4ef07f87-23d0-433c-b80c-0c6ae2ed4c1b/download/dublinbike-historical-data-2022-11.csv',\n",
       " 'https://data.smartdublin.ie/dataset/33ec9fe2-4957-4e9a-ab55-c5e917c7a9ab/resource/79ab48c8-6135-4fd5-a7af-e74495a34777/download/dublinbike-historical-data-2022-12.csv',\n",
       " 'https://data.smartdublin.ie/dataset/33ec9fe2-4957-4e9a-ab55-c5e917c7a9ab/resource/ac920fc9-d73d-4565-81e0-31c179bc741c/download/dublinbike-historical-data-2023-01.csv',\n",
       " 'https://data.smartdublin.ie/dataset/33ec9fe2-4957-4e9a-ab55-c5e917c7a9ab/resource/4ee172c9-dfc1-4e4b-afc7-0dc83c17a240/download/dublinbike-historical-data-2023-02.csv',\n",
       " 'https://data.smartdublin.ie/dataset/33ec9fe2-4957-4e9a-ab55-c5e917c7a9ab/resource/6b505ff7-35b7-4a6f-abce-b62b8889aae8/download/dublinbike-historical-data-2023-03.csv',\n",
       " 'https://data.smartdublin.ie/dataset/33ec9fe2-4957-4e9a-ab55-c5e917c7a9ab/resource/61ad0229-43a8-44c6-8bc3-fc8580b0794a/download/dublinbike-historical-data-2023-04.csv',\n",
       " 'https://data.smartdublin.ie/dataset/33ec9fe2-4957-4e9a-ab55-c5e917c7a9ab/resource/2ab9de3a-f965-4917-bf53-4dbe9dbfab4d/download/dublinbike-historical-data-2023-05.csv',\n",
       " 'https://data.smartdublin.ie/dataset/33ec9fe2-4957-4e9a-ab55-c5e917c7a9ab/resource/8b99c18f-bb0e-4f27-bdbb-c649f83dd487/download/dublinbike-historical-data-2023-06.csv',\n",
       " 'https://data.smartdublin.ie/dataset/33ec9fe2-4957-4e9a-ab55-c5e917c7a9ab/resource/70925ddc-18b6-4325-9103-1a2f3f320f5a/download/dublinbike-historical-data-2023-07.csv',\n",
       " 'https://data.smartdublin.ie/dataset/33ec9fe2-4957-4e9a-ab55-c5e917c7a9ab/resource/95e5514b-c516-4173-bdc2-27181cd8d75e/download/dublinbike-historical-data-2023-08.csv',\n",
       " 'https://data.smartdublin.ie/dataset/33ec9fe2-4957-4e9a-ab55-c5e917c7a9ab/resource/455f744b-8bea-403a-a7a6-a32904d9e255/download/dublinbike-historical-data-2023-09.csv',\n",
       " 'https://data.smartdublin.ie/dataset/33ec9fe2-4957-4e9a-ab55-c5e917c7a9ab/resource/0027dd4c-c749-4ea2-8413-e323d959f44c/download/dublinbike-historical-data-2023-10.csv',\n",
       " 'https://data.smartdublin.ie/dataset/33ec9fe2-4957-4e9a-ab55-c5e917c7a9ab/resource/d4bd9069-630b-4ae5-b58b-cf8f74e8de9e/download/dublinbike-historical-data-2023-11.csv',\n",
       " 'https://data.smartdublin.ie/dataset/33ec9fe2-4957-4e9a-ab55-c5e917c7a9ab/resource/969e942a-ab88-46e1-ae85-bd3a62112bc1/download/dublinbike-historical-data-2023-12.csv']"
      ]
     },
     "execution_count": 17,
     "metadata": {},
     "output_type": "execute_result"
    }
   ],
   "source": [
    "soup = BeautifulSoup(main_page_html)\n",
    "download_links = [a['href'] for a in soup.find_all('a', href=True) if a['href'].endswith('.csv') and 'dublinbike' in a['href']]\n",
    "download_links "
   ]
  },
  {
   "cell_type": "code",
   "execution_count": 27,
   "id": "380b5f9b-2628-4993-9173-e737f732ce44",
   "metadata": {},
   "outputs": [
    {
     "name": "stderr",
     "output_type": "stream",
     "text": [
      "100%|████████████████████████████████████████████████████████████████████████████████████████████████████████████████████| 14/14 [06:36<00:00, 28.33s/it]\n",
      "100%|████████████████████████████████████████████████████████████████████████████████████████████████████████████████████| 27/27 [01:01<00:00,  2.28s/it]\n"
     ]
    }
   ],
   "source": [
    "# Warning: this downloads several Gbs of bike data\n",
    "quarterly_links = [x for x in download_links if 'dublinbikes' in x]\n",
    "monthly_links = [x for x in download_links if 'dublinbikes' not in x]\n",
    "\n",
    "if REDOWNLOAD:\n",
    "    for link in tqdm(quarterly_links):\n",
    "        df = pd.read_csv(link)\n",
    "        df.to_csv((dublin_bike_folder / 'quarterly' / os.path.basename(link)), index=False)\n",
    "                  \n",
    "    for link in tqdm(monthly_links):\n",
    "        df = pd.read_csv(link)\n",
    "        df.to_csv((dublin_bike_folder / 'monthly' / os.path.basename(link)), index=False)"
   ]
  },
  {
   "cell_type": "code",
   "execution_count": null,
   "id": "fc90a840-a33f-4d92-85ec-40746b7f3681",
   "metadata": {},
   "outputs": [],
   "source": []
  }
 ],
 "metadata": {
  "kernelspec": {
   "display_name": "Python 3 (ipykernel)",
   "language": "python",
   "name": "python3"
  },
  "language_info": {
   "codemirror_mode": {
    "name": "ipython",
    "version": 3
   },
   "file_extension": ".py",
   "mimetype": "text/x-python",
   "name": "python",
   "nbconvert_exporter": "python",
   "pygments_lexer": "ipython3",
   "version": "3.10.13"
  }
 },
 "nbformat": 4,
 "nbformat_minor": 5
}
